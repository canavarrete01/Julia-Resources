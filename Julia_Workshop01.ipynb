{
 "cells": [
  {
   "cell_type": "markdown",
   "id": "bbe5eb6e",
   "metadata": {},
   "source": [
    "# Julia Workshop"
   ]
  },
  {
   "cell_type": "markdown",
   "id": "61f4fd4d",
   "metadata": {},
   "source": [
    "### variables and printing "
   ]
  },
  {
   "cell_type": "code",
   "execution_count": 1,
   "id": "3348e959",
   "metadata": {},
   "outputs": [
    {
     "name": "stdout",
     "output_type": "stream",
     "text": [
      "Hello World\n"
     ]
    }
   ],
   "source": [
    "println(\"Hello World\")"
   ]
  },
  {
   "cell_type": "code",
   "execution_count": 3,
   "id": "4cda5504",
   "metadata": {},
   "outputs": [
    {
     "data": {
      "text/plain": [
       "Int64"
      ]
     },
     "execution_count": 3,
     "metadata": {},
     "output_type": "execute_result"
    }
   ],
   "source": [
    "answer = 12\n",
    "typeof(answer)"
   ]
  },
  {
   "cell_type": "code",
   "execution_count": 4,
   "id": "e10b5083",
   "metadata": {},
   "outputs": [
    {
     "data": {
      "text/plain": [
       "Float64"
      ]
     },
     "execution_count": 4,
     "metadata": {},
     "output_type": "execute_result"
    }
   ],
   "source": [
    "pi = 3.14\n",
    "typeof(pi)"
   ]
  },
  {
   "cell_type": "code",
   "execution_count": 5,
   "id": "6953a199",
   "metadata": {},
   "outputs": [
    {
     "data": {
      "text/plain": [
       "String"
      ]
     },
     "execution_count": 5,
     "metadata": {},
     "output_type": "execute_result"
    }
   ],
   "source": [
    "s = \"hi\"\n",
    "typeof(s)"
   ]
  },
  {
   "cell_type": "code",
   "execution_count": 6,
   "id": "c965a9b2",
   "metadata": {},
   "outputs": [],
   "source": [
    "#comments\n",
    "#= \n",
    "extending \n",
    "comments\n",
    "=#"
   ]
  },
  {
   "cell_type": "markdown",
   "id": "13f17082",
   "metadata": {},
   "source": [
    "### syntax for basic math "
   ]
  },
  {
   "cell_type": "code",
   "execution_count": 9,
   "id": "da06457f",
   "metadata": {},
   "outputs": [
    {
     "data": {
      "text/plain": [
       "6"
      ]
     },
     "execution_count": 9,
     "metadata": {},
     "output_type": "execute_result"
    }
   ],
   "source": [
    "sum = 4+2"
   ]
  },
  {
   "cell_type": "code",
   "execution_count": 10,
   "id": "b6024c68",
   "metadata": {},
   "outputs": [
    {
     "data": {
      "text/plain": [
       "2"
      ]
     },
     "execution_count": 10,
     "metadata": {},
     "output_type": "execute_result"
    }
   ],
   "source": [
    "diff = 4-2"
   ]
  },
  {
   "cell_type": "code",
   "execution_count": 12,
   "id": "a2ba7b57",
   "metadata": {},
   "outputs": [
    {
     "data": {
      "text/plain": [
       "30"
      ]
     },
     "execution_count": 12,
     "metadata": {},
     "output_type": "execute_result"
    }
   ],
   "source": [
    "product = 10*3"
   ]
  },
  {
   "cell_type": "code",
   "execution_count": 14,
   "id": "2b42b579",
   "metadata": {},
   "outputs": [
    {
     "data": {
      "text/plain": [
       "100"
      ]
     },
     "execution_count": 14,
     "metadata": {},
     "output_type": "execute_result"
    }
   ],
   "source": [
    "exponent = 10^2"
   ]
  },
  {
   "cell_type": "code",
   "execution_count": 16,
   "id": "5caedeee",
   "metadata": {},
   "outputs": [
    {
     "data": {
      "text/plain": [
       "1"
      ]
     },
     "execution_count": 16,
     "metadata": {},
     "output_type": "execute_result"
    }
   ],
   "source": [
    "modulus = 101% 2"
   ]
  },
  {
   "cell_type": "markdown",
   "id": "15387455",
   "metadata": {},
   "source": [
    "### example"
   ]
  },
  {
   "cell_type": "code",
   "execution_count": 17,
   "id": "2295a41f",
   "metadata": {},
   "outputs": [
    {
     "data": {
      "text/plain": [
       "10.0"
      ]
     },
     "execution_count": 17,
     "metadata": {},
     "output_type": "execute_result"
    }
   ],
   "source": [
    "#convert operator\n",
    "xf = convert(AbstractFloat, 10)"
   ]
  },
  {
   "cell_type": "code",
   "execution_count": 18,
   "id": "368f8841",
   "metadata": {},
   "outputs": [
    {
     "data": {
      "text/plain": [
       "1"
      ]
     },
     "execution_count": 18,
     "metadata": {},
     "output_type": "execute_result"
    }
   ],
   "source": [
    "parse(Int64, \"1\")"
   ]
  },
  {
   "cell_type": "code",
   "execution_count": 19,
   "id": "64d2d3fa",
   "metadata": {},
   "outputs": [
    {
     "ename": "LoadError",
     "evalue": "TypeError: non-boolean (Int64) used in boolean context",
     "output_type": "error",
     "traceback": [
      "TypeError: non-boolean (Int64) used in boolean context",
      "",
      "Stacktrace:",
      " [1] top-level scope",
      "   @ In[19]:1"
     ]
    }
   ],
   "source": [
    "@assert days = 365\n",
    "@assert days_float = 365.0"
   ]
  },
  {
   "cell_type": "markdown",
   "id": "793dd7cc",
   "metadata": {},
   "source": [
    "### strings"
   ]
  },
  {
   "cell_type": "code",
   "execution_count": 22,
   "id": "5d75af3c",
   "metadata": {},
   "outputs": [
    {
     "data": {
      "text/plain": [
       "\"I am also a string\""
      ]
     },
     "execution_count": 22,
     "metadata": {},
     "output_type": "execute_result"
    }
   ],
   "source": [
    "s1 = \"I am a string\"\n",
    "s2 = \"\"\"I am also a string\"\"\""
   ]
  },
  {
   "cell_type": "code",
   "execution_count": 24,
   "id": "884168d9",
   "metadata": {},
   "outputs": [
    {
     "data": {
      "text/plain": [
       "\"Hello to 'Carolina' \""
      ]
     },
     "execution_count": 24,
     "metadata": {},
     "output_type": "execute_result"
    }
   ],
   "source": [
    "\"\"\"Hello to 'Carolina' \"\"\""
   ]
  },
  {
   "cell_type": "code",
   "execution_count": 25,
   "id": "b3c76ecf",
   "metadata": {},
   "outputs": [
    {
     "data": {
      "text/plain": [
       "String"
      ]
     },
     "execution_count": 25,
     "metadata": {},
     "output_type": "execute_result"
    }
   ],
   "source": [
    "typeof(\"a\")"
   ]
  },
  {
   "cell_type": "markdown",
   "id": "fb73a3fe",
   "metadata": {},
   "source": [
    "### string interpolation and concatenation"
   ]
  },
  {
   "cell_type": "code",
   "execution_count": 27,
   "id": "0ec32eb2",
   "metadata": {},
   "outputs": [
    {
     "name": "stdout",
     "output_type": "stream",
     "text": [
      "Hello, my name is Carolina\n",
      "I am 21 years old\n"
     ]
    }
   ],
   "source": [
    "name = \"Carolina\"\n",
    "age = 21\n",
    "println(\"Hello, my name is $name\")\n",
    "println(\"I am $age years old\")"
   ]
  },
  {
   "cell_type": "code",
   "execution_count": 28,
   "id": "a213a67a",
   "metadata": {},
   "outputs": [
    {
     "data": {
      "text/plain": [
       "\"How many cats are too many cats\""
      ]
     },
     "execution_count": 28,
     "metadata": {},
     "output_type": "execute_result"
    }
   ],
   "source": [
    "string(\"How many cats \", \"are too many cats\")"
   ]
  },
  {
   "cell_type": "code",
   "execution_count": 29,
   "id": "3013883a",
   "metadata": {},
   "outputs": [
    {
     "data": {
      "text/plain": [
       "\"I dont know, but 10are too few\""
      ]
     },
     "execution_count": 29,
     "metadata": {},
     "output_type": "execute_result"
    }
   ],
   "source": [
    "string(\"I dont know, but \", 10, \" are too few\")"
   ]
  },
  {
   "cell_type": "code",
   "execution_count": 31,
   "id": "eccef1a9",
   "metadata": {},
   "outputs": [
    {
     "data": {
      "text/plain": [
       "\"Hello World\""
      ]
     },
     "execution_count": 31,
     "metadata": {},
     "output_type": "execute_result"
    }
   ],
   "source": [
    "s3 = \"Hello \"\n",
    "s4 = \"World\"\n",
    "s3*s4"
   ]
  },
  {
   "cell_type": "markdown",
   "id": "c14f0ec8",
   "metadata": {},
   "source": [
    "### data structures "
   ]
  },
  {
   "cell_type": "code",
   "execution_count": 33,
   "id": "e0245ab3",
   "metadata": {},
   "outputs": [
    {
     "data": {
      "text/plain": [
       "Dict{String, String} with 2 entries:\n",
       "  \"B\" => \"456\"\n",
       "  \"A\" => \"123\""
      ]
     },
     "execution_count": 33,
     "metadata": {},
     "output_type": "execute_result"
    }
   ],
   "source": [
    "#Dictionaries, Tuples, Arrays\n",
    "example = Dict(\"A\" => \"123\", \"B\" => \"456\")"
   ]
  },
  {
   "cell_type": "code",
   "execution_count": 34,
   "id": "df80e791",
   "metadata": {},
   "outputs": [
    {
     "data": {
      "text/plain": [
       "\"789\""
      ]
     },
     "execution_count": 34,
     "metadata": {},
     "output_type": "execute_result"
    }
   ],
   "source": [
    "example[\"C\"] = \"789\""
   ]
  },
  {
   "cell_type": "code",
   "execution_count": 35,
   "id": "9a6975d0",
   "metadata": {},
   "outputs": [
    {
     "data": {
      "text/plain": [
       "Dict{String, String} with 3 entries:\n",
       "  \"B\" => \"456\"\n",
       "  \"A\" => \"123\"\n",
       "  \"C\" => \"789\""
      ]
     },
     "execution_count": 35,
     "metadata": {},
     "output_type": "execute_result"
    }
   ],
   "source": [
    "example"
   ]
  },
  {
   "cell_type": "code",
   "execution_count": 36,
   "id": "82fa3e5f",
   "metadata": {},
   "outputs": [
    {
     "data": {
      "text/plain": [
       "\"789\""
      ]
     },
     "execution_count": 36,
     "metadata": {},
     "output_type": "execute_result"
    }
   ],
   "source": [
    "example[\"C\"]"
   ]
  },
  {
   "cell_type": "code",
   "execution_count": 38,
   "id": "4626ad3b",
   "metadata": {},
   "outputs": [
    {
     "data": {
      "text/plain": [
       "\"789\""
      ]
     },
     "execution_count": 38,
     "metadata": {},
     "output_type": "execute_result"
    }
   ],
   "source": [
    "pop!(example, \"C\")"
   ]
  },
  {
   "cell_type": "code",
   "execution_count": 39,
   "id": "a90a70da",
   "metadata": {},
   "outputs": [
    {
     "data": {
      "text/plain": [
       "Dict{String, String} with 2 entries:\n",
       "  \"B\" => \"456\"\n",
       "  \"A\" => \"123\""
      ]
     },
     "execution_count": 39,
     "metadata": {},
     "output_type": "execute_result"
    }
   ],
   "source": [
    "example"
   ]
  },
  {
   "cell_type": "code",
   "execution_count": 47,
   "id": "5649aa71",
   "metadata": {},
   "outputs": [
    {
     "ename": "LoadError",
     "evalue": "KeyError: key 1 not found",
     "output_type": "error",
     "traceback": [
      "KeyError: key 1 not found",
      "",
      "Stacktrace:",
      " [1] getindex(h::Dict{String, String}, key::Int64)",
      "   @ Base ./dict.jl:498",
      " [2] top-level scope",
      "   @ In[47]:1"
     ]
    }
   ],
   "source": [
    "example[1]"
   ]
  },
  {
   "cell_type": "markdown",
   "id": "c50c1078",
   "metadata": {},
   "source": [
    "### tuples"
   ]
  },
  {
   "cell_type": "code",
   "execution_count": 41,
   "id": "46026697",
   "metadata": {},
   "outputs": [
    {
     "data": {
      "text/plain": [
       "(\"penguins\", \"cats\", \"sugarglides\")"
      ]
     },
     "execution_count": 41,
     "metadata": {},
     "output_type": "execute_result"
    }
   ],
   "source": [
    "animals = (\"penguins\", \"cats\", \"sugarglides\")"
   ]
  },
  {
   "cell_type": "code",
   "execution_count": 42,
   "id": "4e83ff4a",
   "metadata": {},
   "outputs": [
    {
     "data": {
      "text/plain": [
       "\"penguins\""
      ]
     },
     "execution_count": 42,
     "metadata": {},
     "output_type": "execute_result"
    }
   ],
   "source": [
    "animals[1]"
   ]
  },
  {
   "cell_type": "code",
   "execution_count": 43,
   "id": "ff23ed2b",
   "metadata": {},
   "outputs": [
    {
     "ename": "LoadError",
     "evalue": "MethodError: no method matching setindex!(::Tuple{String, String, String}, ::String, ::Int64)",
     "output_type": "error",
     "traceback": [
      "MethodError: no method matching setindex!(::Tuple{String, String, String}, ::String, ::Int64)",
      "",
      "Stacktrace:",
      " [1] top-level scope",
      "   @ In[43]:1"
     ]
    }
   ],
   "source": [
    "animals[1] = \"otters\" #tuples in julia are immutable"
   ]
  },
  {
   "cell_type": "markdown",
   "id": "9f0da40d",
   "metadata": {},
   "source": [
    "### array"
   ]
  },
  {
   "cell_type": "code",
   "execution_count": 48,
   "id": "1abbd60d",
   "metadata": {},
   "outputs": [
    {
     "data": {
      "text/plain": [
       "3-element Vector{String}:\n",
       " \"Ted\"\n",
       " \"Rob\"\n",
       " \"Barn\""
      ]
     },
     "execution_count": 48,
     "metadata": {},
     "output_type": "execute_result"
    }
   ],
   "source": [
    "names = [\"Ted\", \"Rob\", \"Barn\"]"
   ]
  },
  {
   "cell_type": "code",
   "execution_count": 49,
   "id": "e84f1acb",
   "metadata": {},
   "outputs": [
    {
     "data": {
      "text/plain": [
       "4-element Vector{Int64}:\n",
       " 1\n",
       " 2\n",
       " 3\n",
       " 4"
      ]
     },
     "execution_count": 49,
     "metadata": {},
     "output_type": "execute_result"
    }
   ],
   "source": [
    "fib = [1,2,3,4]"
   ]
  },
  {
   "cell_type": "code",
   "execution_count": 50,
   "id": "a5279a67",
   "metadata": {},
   "outputs": [
    {
     "data": {
      "text/plain": [
       "4-element Vector{Any}:\n",
       " 1\n",
       " 2\n",
       " 3.0\n",
       "  \"a\""
      ]
     },
     "execution_count": 50,
     "metadata": {},
     "output_type": "execute_result"
    }
   ],
   "source": [
    "mixedArray = [1, 2, 3.0, \"a\"]"
   ]
  },
  {
   "cell_type": "code",
   "execution_count": 51,
   "id": "f3a44142",
   "metadata": {},
   "outputs": [
    {
     "data": {
      "text/plain": [
       "\"Rob\""
      ]
     },
     "execution_count": 51,
     "metadata": {},
     "output_type": "execute_result"
    }
   ],
   "source": [
    "names[2] #arrays are mutable, start at 1"
   ]
  },
  {
   "cell_type": "code",
   "execution_count": 53,
   "id": "57c51882",
   "metadata": {},
   "outputs": [
    {
     "data": {
      "text/plain": [
       "\"Lily\""
      ]
     },
     "execution_count": 53,
     "metadata": {},
     "output_type": "execute_result"
    }
   ],
   "source": [
    "names[3] = \"Lily\" "
   ]
  },
  {
   "cell_type": "code",
   "execution_count": 54,
   "id": "2d9ec6fb",
   "metadata": {},
   "outputs": [
    {
     "data": {
      "text/plain": [
       "5-element Vector{Int64}:\n",
       "  1\n",
       "  2\n",
       "  3\n",
       "  4\n",
       " 21"
      ]
     },
     "execution_count": 54,
     "metadata": {},
     "output_type": "execute_result"
    }
   ],
   "source": [
    "push!(fib, 21) #push adds element to array"
   ]
  },
  {
   "cell_type": "code",
   "execution_count": 55,
   "id": "63bac0c6",
   "metadata": {},
   "outputs": [
    {
     "data": {
      "text/plain": [
       "21"
      ]
     },
     "execution_count": 55,
     "metadata": {},
     "output_type": "execute_result"
    }
   ],
   "source": [
    "pop!(fib)"
   ]
  },
  {
   "cell_type": "code",
   "execution_count": 56,
   "id": "bdb94d3e",
   "metadata": {},
   "outputs": [
    {
     "data": {
      "text/plain": [
       "4-element Vector{Int64}:\n",
       " 1\n",
       " 2\n",
       " 3\n",
       " 4"
      ]
     },
     "execution_count": 56,
     "metadata": {},
     "output_type": "execute_result"
    }
   ],
   "source": [
    "fib"
   ]
  },
  {
   "cell_type": "code",
   "execution_count": 57,
   "id": "14db2d16",
   "metadata": {},
   "outputs": [
    {
     "data": {
      "text/plain": [
       "2-element Vector{Vector{String}}:\n",
       " [\"c\", \"e\", \"k\"]\n",
       " [\"pen\", \"car\", \"store\"]"
      ]
     },
     "execution_count": 57,
     "metadata": {},
     "output_type": "execute_result"
    }
   ],
   "source": [
    "favorite = [[\"c\", \"e\", \"k\"], [\"pen\", \"car\", \"store\"]]"
   ]
  },
  {
   "cell_type": "code",
   "execution_count": 58,
   "id": "7c2b1f2f",
   "metadata": {},
   "outputs": [
    {
     "data": {
      "text/plain": [
       "3-element Vector{Vector{Int64}}:\n",
       " [1, 2, 3]\n",
       " [4, 5]\n",
       " [6, 7, 8, 9]"
      ]
     },
     "execution_count": 58,
     "metadata": {},
     "output_type": "execute_result"
    }
   ],
   "source": [
    "numbers = [[1,2,3], [4,5], [6,7,8,9]]"
   ]
  },
  {
   "cell_type": "code",
   "execution_count": 59,
   "id": "6539aa6d",
   "metadata": {},
   "outputs": [
    {
     "data": {
      "text/plain": [
       "4×3 Matrix{Float64}:\n",
       " 0.167463  0.170523  0.0963315\n",
       " 0.511828  0.690992  0.682387\n",
       " 0.357855  0.944352  0.635257\n",
       " 0.490834  0.380553  0.206059"
      ]
     },
     "execution_count": 59,
     "metadata": {},
     "output_type": "execute_result"
    }
   ],
   "source": [
    "rand(4,3) "
   ]
  },
  {
   "cell_type": "code",
   "execution_count": 60,
   "id": "abf68a41",
   "metadata": {},
   "outputs": [
    {
     "data": {
      "text/plain": [
       "4×3×2 Array{Float64, 3}:\n",
       "[:, :, 1] =\n",
       " 0.125697    0.853025  0.968411\n",
       " 0.00578058  0.190481  0.813243\n",
       " 0.133968    0.830366  0.403684\n",
       " 0.839189    0.226994  0.22451\n",
       "\n",
       "[:, :, 2] =\n",
       " 0.266334   0.429762  0.882897\n",
       " 0.0200811  0.864024  0.378129\n",
       " 0.422038   0.967854  0.119688\n",
       " 0.858193   0.248378  0.575282"
      ]
     },
     "execution_count": 60,
     "metadata": {},
     "output_type": "execute_result"
    }
   ],
   "source": [
    "rand(4,3,2)"
   ]
  },
  {
   "cell_type": "code",
   "execution_count": null,
   "id": "0aa76659",
   "metadata": {},
   "outputs": [],
   "source": []
  }
 ],
 "metadata": {
  "kernelspec": {
   "display_name": "Julia 1.8.5",
   "language": "julia",
   "name": "julia-1.8"
  },
  "language_info": {
   "file_extension": ".jl",
   "mimetype": "application/julia",
   "name": "julia",
   "version": "1.8.5"
  }
 },
 "nbformat": 4,
 "nbformat_minor": 5
}
