{
 "cells": [
  {
   "cell_type": "code",
   "execution_count": 1,
   "id": "72d7b7b8-b403-4e2f-948a-6128d95f8bf1",
   "metadata": {},
   "outputs": [
    {
     "data": {
      "text/plain": [
       "QuadFormula (generic function with 1 method)"
      ]
     },
     "execution_count": 1,
     "metadata": {},
     "output_type": "execute_result"
    }
   ],
   "source": [
    "#main \n",
    "include(\"Formula.jl\")"
   ]
  },
  {
   "cell_type": "code",
   "execution_count": 2,
   "id": "9c51975d-af3c-4205-a571-9e064131cc75",
   "metadata": {},
   "outputs": [
    {
     "name": "stdout",
     "output_type": "stream",
     "text": [
      "6.4031242374328485"
     ]
    }
   ],
   "source": [
    "a = 4\n",
    "b = 5\n",
    "c = QuadFormula(a, b)\n",
    "print(c)"
   ]
  },
  {
   "cell_type": "code",
   "execution_count": null,
   "id": "82ab22c1-4d11-499d-b921-7f419c0b19c6",
   "metadata": {},
   "outputs": [],
   "source": []
  }
 ],
 "metadata": {
  "kernelspec": {
   "display_name": "Julia 1.8.5",
   "language": "julia",
   "name": "julia-1.8"
  },
  "language_info": {
   "file_extension": ".jl",
   "mimetype": "application/julia",
   "name": "julia",
   "version": "1.8.5"
  }
 },
 "nbformat": 4,
 "nbformat_minor": 5
}
